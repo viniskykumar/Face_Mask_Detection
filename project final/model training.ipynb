{
 "cells": [
  {
   "cell_type": "code",
   "execution_count": 1,
   "id": "961c943b",
   "metadata": {},
   "outputs": [],
   "source": [
    "import numpy as np\n",
    "from keras.models import Sequential\n",
    "from keras.layers import Dense,Activation,Flatten,Dropout\n",
    "from keras.layers import Conv2D,MaxPooling2D\n",
    "from keras.callbacks import ModelCheckpoint\n",
    "\n",
    "data=np.load('data.npy')\n",
    "target=np.load('target.npy')\n",
    "\n"
   ]
  },
  {
   "cell_type": "code",
   "execution_count": 2,
   "id": "199c8dc6",
   "metadata": {},
   "outputs": [],
   "source": [
    "model=Sequential()\n",
    "\n",
    "model.add(Conv2D(200,(3,3),input_shape=data.shape[1:]))\n",
    "model.add(Activation('relu'))\n",
    "model.add(MaxPooling2D(pool_size=(2,2)))\n",
    "#The first CNN layer followed by Relu and MaxPooling layers\n",
    "\n",
    "model.add(Conv2D(100,(3,3)))\n",
    "model.add(Activation('relu'))\n",
    "model.add(MaxPooling2D(pool_size=(2,2)))\n",
    "#The second convolution layer followed by Relu and MaxPooling layers\n",
    "\n",
    "model.add(Flatten())\n",
    "model.add(Dropout(0.5))\n",
    "#Flatten layer to stack the output convolutions from second convolution layer\n",
    "model.add(Dense(50,activation='relu'))\n",
    "#Dense layer of 64 neurons\n",
    "model.add(Dense(2,activation='softmax'))\n",
    "#The Final layer with two outputs for two categories\n",
    "\n",
    "model.compile(loss='categorical_crossentropy',optimizer='adam',metrics=['accuracy'])"
   ]
  },
  {
   "cell_type": "code",
   "execution_count": 3,
   "id": "e6662aa3",
   "metadata": {},
   "outputs": [],
   "source": [
    "from sklearn.model_selection import train_test_split\n",
    "\n",
    "train_data,test_data,train_target,test_target=train_test_split(data,target,test_size=0.1)"
   ]
  },
  {
   "cell_type": "code",
   "execution_count": 4,
   "id": "d99f0028",
   "metadata": {},
   "outputs": [
    {
     "name": "stdout",
     "output_type": "stream",
     "text": [
      "Epoch 1/20\n",
      "31/31 [==============================] - ETA: 0s - loss: 0.7487 - accuracy: 0.5394"
     ]
    },
    {
     "name": "stderr",
     "output_type": "stream",
     "text": [
      "WARNING:absl:Found untraced functions such as _jit_compiled_convolution_op, _jit_compiled_convolution_op while saving (showing 2 of 2). These functions will not be directly callable after loading.\n"
     ]
    },
    {
     "name": "stdout",
     "output_type": "stream",
     "text": [
      "INFO:tensorflow:Assets written to: model-001.model\\assets\n"
     ]
    },
    {
     "name": "stderr",
     "output_type": "stream",
     "text": [
      "INFO:tensorflow:Assets written to: model-001.model\\assets\n"
     ]
    },
    {
     "name": "stdout",
     "output_type": "stream",
     "text": [
      "31/31 [==============================] - 22s 685ms/step - loss: 0.7487 - accuracy: 0.5394 - val_loss: 0.6488 - val_accuracy: 0.7137\n",
      "Epoch 2/20\n",
      "31/31 [==============================] - ETA: 0s - loss: 0.5580 - accuracy: 0.7222"
     ]
    },
    {
     "name": "stderr",
     "output_type": "stream",
     "text": [
      "WARNING:absl:Found untraced functions such as _jit_compiled_convolution_op, _jit_compiled_convolution_op while saving (showing 2 of 2). These functions will not be directly callable after loading.\n"
     ]
    },
    {
     "name": "stdout",
     "output_type": "stream",
     "text": [
      "INFO:tensorflow:Assets written to: model-002.model\\assets\n"
     ]
    },
    {
     "name": "stderr",
     "output_type": "stream",
     "text": [
      "INFO:tensorflow:Assets written to: model-002.model\\assets\n"
     ]
    },
    {
     "name": "stdout",
     "output_type": "stream",
     "text": [
      "31/31 [==============================] - 21s 690ms/step - loss: 0.5580 - accuracy: 0.7222 - val_loss: 0.4229 - val_accuracy: 0.8347\n",
      "Epoch 3/20\n",
      "31/31 [==============================] - ETA: 0s - loss: 0.3829 - accuracy: 0.8333"
     ]
    },
    {
     "name": "stderr",
     "output_type": "stream",
     "text": [
      "WARNING:absl:Found untraced functions such as _jit_compiled_convolution_op, _jit_compiled_convolution_op while saving (showing 2 of 2). These functions will not be directly callable after loading.\n"
     ]
    },
    {
     "name": "stdout",
     "output_type": "stream",
     "text": [
      "INFO:tensorflow:Assets written to: model-003.model\\assets\n"
     ]
    },
    {
     "name": "stderr",
     "output_type": "stream",
     "text": [
      "INFO:tensorflow:Assets written to: model-003.model\\assets\n"
     ]
    },
    {
     "name": "stdout",
     "output_type": "stream",
     "text": [
      "31/31 [==============================] - 21s 685ms/step - loss: 0.3829 - accuracy: 0.8333 - val_loss: 0.3609 - val_accuracy: 0.8306\n",
      "Epoch 4/20\n",
      "31/31 [==============================] - ETA: 0s - loss: 0.2908 - accuracy: 0.8818"
     ]
    },
    {
     "name": "stderr",
     "output_type": "stream",
     "text": [
      "WARNING:absl:Found untraced functions such as _jit_compiled_convolution_op, _jit_compiled_convolution_op while saving (showing 2 of 2). These functions will not be directly callable after loading.\n"
     ]
    },
    {
     "name": "stdout",
     "output_type": "stream",
     "text": [
      "INFO:tensorflow:Assets written to: model-004.model\\assets\n"
     ]
    },
    {
     "name": "stderr",
     "output_type": "stream",
     "text": [
      "INFO:tensorflow:Assets written to: model-004.model\\assets\n"
     ]
    },
    {
     "name": "stdout",
     "output_type": "stream",
     "text": [
      "31/31 [==============================] - 21s 683ms/step - loss: 0.2908 - accuracy: 0.8818 - val_loss: 0.2360 - val_accuracy: 0.9234\n",
      "Epoch 5/20\n",
      "31/31 [==============================] - 20s 662ms/step - loss: 0.2699 - accuracy: 0.8889 - val_loss: 0.3487 - val_accuracy: 0.8508\n",
      "Epoch 6/20\n",
      "31/31 [==============================] - ETA: 0s - loss: 0.2174 - accuracy: 0.9212"
     ]
    },
    {
     "name": "stderr",
     "output_type": "stream",
     "text": [
      "WARNING:absl:Found untraced functions such as _jit_compiled_convolution_op, _jit_compiled_convolution_op while saving (showing 2 of 2). These functions will not be directly callable after loading.\n"
     ]
    },
    {
     "name": "stdout",
     "output_type": "stream",
     "text": [
      "INFO:tensorflow:Assets written to: model-006.model\\assets\n"
     ]
    },
    {
     "name": "stderr",
     "output_type": "stream",
     "text": [
      "INFO:tensorflow:Assets written to: model-006.model\\assets\n"
     ]
    },
    {
     "name": "stdout",
     "output_type": "stream",
     "text": [
      "31/31 [==============================] - 21s 682ms/step - loss: 0.2174 - accuracy: 0.9212 - val_loss: 0.1924 - val_accuracy: 0.9476\n",
      "Epoch 7/20\n",
      "31/31 [==============================] - ETA: 0s - loss: 0.1434 - accuracy: 0.9556"
     ]
    },
    {
     "name": "stderr",
     "output_type": "stream",
     "text": [
      "WARNING:absl:Found untraced functions such as _jit_compiled_convolution_op, _jit_compiled_convolution_op while saving (showing 2 of 2). These functions will not be directly callable after loading.\n"
     ]
    },
    {
     "name": "stdout",
     "output_type": "stream",
     "text": [
      "INFO:tensorflow:Assets written to: model-007.model\\assets\n"
     ]
    },
    {
     "name": "stderr",
     "output_type": "stream",
     "text": [
      "INFO:tensorflow:Assets written to: model-007.model\\assets\n"
     ]
    },
    {
     "name": "stdout",
     "output_type": "stream",
     "text": [
      "31/31 [==============================] - 22s 717ms/step - loss: 0.1434 - accuracy: 0.9556 - val_loss: 0.1651 - val_accuracy: 0.9516\n",
      "Epoch 8/20\n",
      "31/31 [==============================] - 20s 652ms/step - loss: 0.1474 - accuracy: 0.9495 - val_loss: 0.2365 - val_accuracy: 0.9032\n",
      "Epoch 9/20\n",
      "31/31 [==============================] - ETA: 0s - loss: 0.1282 - accuracy: 0.9586"
     ]
    },
    {
     "name": "stderr",
     "output_type": "stream",
     "text": [
      "WARNING:absl:Found untraced functions such as _jit_compiled_convolution_op, _jit_compiled_convolution_op while saving (showing 2 of 2). These functions will not be directly callable after loading.\n"
     ]
    },
    {
     "name": "stdout",
     "output_type": "stream",
     "text": [
      "INFO:tensorflow:Assets written to: model-009.model\\assets\n"
     ]
    },
    {
     "name": "stderr",
     "output_type": "stream",
     "text": [
      "INFO:tensorflow:Assets written to: model-009.model\\assets\n"
     ]
    },
    {
     "name": "stdout",
     "output_type": "stream",
     "text": [
      "31/31 [==============================] - 21s 684ms/step - loss: 0.1282 - accuracy: 0.9586 - val_loss: 0.1380 - val_accuracy: 0.9516\n",
      "Epoch 10/20\n",
      "31/31 [==============================] - 20s 654ms/step - loss: 0.0891 - accuracy: 0.9697 - val_loss: 0.1666 - val_accuracy: 0.9315\n",
      "Epoch 11/20\n",
      "31/31 [==============================] - 20s 654ms/step - loss: 0.0721 - accuracy: 0.9758 - val_loss: 0.1404 - val_accuracy: 0.9476\n",
      "Epoch 12/20\n",
      "31/31 [==============================] - 20s 662ms/step - loss: 0.0578 - accuracy: 0.9808 - val_loss: 0.1451 - val_accuracy: 0.9435\n",
      "Epoch 13/20\n",
      "31/31 [==============================] - ETA: 0s - loss: 0.0393 - accuracy: 0.9889"
     ]
    },
    {
     "name": "stderr",
     "output_type": "stream",
     "text": [
      "WARNING:absl:Found untraced functions such as _jit_compiled_convolution_op, _jit_compiled_convolution_op while saving (showing 2 of 2). These functions will not be directly callable after loading.\n"
     ]
    },
    {
     "name": "stdout",
     "output_type": "stream",
     "text": [
      "INFO:tensorflow:Assets written to: model-013.model\\assets\n"
     ]
    },
    {
     "name": "stderr",
     "output_type": "stream",
     "text": [
      "INFO:tensorflow:Assets written to: model-013.model\\assets\n"
     ]
    },
    {
     "name": "stdout",
     "output_type": "stream",
     "text": [
      "31/31 [==============================] - 21s 685ms/step - loss: 0.0393 - accuracy: 0.9889 - val_loss: 0.1352 - val_accuracy: 0.9637\n",
      "Epoch 14/20\n",
      "31/31 [==============================] - 20s 658ms/step - loss: 0.0340 - accuracy: 0.9899 - val_loss: 0.1355 - val_accuracy: 0.9435\n",
      "Epoch 15/20\n",
      "31/31 [==============================] - 21s 670ms/step - loss: 0.0508 - accuracy: 0.9798 - val_loss: 0.1386 - val_accuracy: 0.9395\n",
      "Epoch 16/20\n",
      "31/31 [==============================] - 21s 668ms/step - loss: 0.0561 - accuracy: 0.9828 - val_loss: 0.1560 - val_accuracy: 0.9476\n",
      "Epoch 17/20\n",
      "31/31 [==============================] - 21s 668ms/step - loss: 0.0318 - accuracy: 0.9899 - val_loss: 0.1448 - val_accuracy: 0.9476\n",
      "Epoch 18/20\n",
      "31/31 [==============================] - ETA: 0s - loss: 0.0234 - accuracy: 0.9929"
     ]
    },
    {
     "name": "stderr",
     "output_type": "stream",
     "text": [
      "WARNING:absl:Found untraced functions such as _jit_compiled_convolution_op, _jit_compiled_convolution_op while saving (showing 2 of 2). These functions will not be directly callable after loading.\n"
     ]
    },
    {
     "name": "stdout",
     "output_type": "stream",
     "text": [
      "INFO:tensorflow:Assets written to: model-018.model\\assets\n"
     ]
    },
    {
     "name": "stderr",
     "output_type": "stream",
     "text": [
      "INFO:tensorflow:Assets written to: model-018.model\\assets\n"
     ]
    },
    {
     "name": "stdout",
     "output_type": "stream",
     "text": [
      "31/31 [==============================] - 21s 690ms/step - loss: 0.0234 - accuracy: 0.9929 - val_loss: 0.1232 - val_accuracy: 0.9556\n",
      "Epoch 19/20\n",
      "31/31 [==============================] - 20s 655ms/step - loss: 0.0187 - accuracy: 0.9960 - val_loss: 0.1269 - val_accuracy: 0.9556\n",
      "Epoch 20/20\n",
      "31/31 [==============================] - 20s 655ms/step - loss: 0.0210 - accuracy: 0.9929 - val_loss: 0.2036 - val_accuracy: 0.9355\n"
     ]
    }
   ],
   "source": [
    "checkpoint = ModelCheckpoint('model-{epoch:03d}.model',monitor='val_loss',verbose=0,save_best_only=True,mode='auto')\n",
    "hist=model.fit(train_data,train_target,epochs=20,callbacks=[checkpoint],validation_split=0.2)\n",
    "\n"
   ]
  },
  {
   "cell_type": "code",
   "execution_count": null,
   "id": "e43e2b2b",
   "metadata": {},
   "outputs": [],
   "source": []
  }
 ],
 "metadata": {
  "kernelspec": {
   "display_name": "Python 3 (ipykernel)",
   "language": "python",
   "name": "python3"
  },
  "language_info": {
   "codemirror_mode": {
    "name": "ipython",
    "version": 3
   },
   "file_extension": ".py",
   "mimetype": "text/x-python",
   "name": "python",
   "nbconvert_exporter": "python",
   "pygments_lexer": "ipython3",
   "version": "3.10.1"
  }
 },
 "nbformat": 4,
 "nbformat_minor": 5
}
